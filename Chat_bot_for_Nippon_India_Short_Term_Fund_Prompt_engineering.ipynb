{
  "cells": [
    {
      "cell_type": "code",
      "execution_count": null,
      "metadata": {
        "colab": {
          "base_uri": "https://localhost:8080/"
        },
        "id": "wnqNFiI7XOvX",
        "outputId": "44263466-4fc1-43dd-b1a1-9013e18130bc"
      },
      "outputs": [
        {
          "name": "stdout",
          "output_type": "stream",
          "text": [
            "Collecting pypdf\n",
            "  Downloading pypdf-4.2.0-py3-none-any.whl (290 kB)\n",
            "\u001b[2K     \u001b[90m━━━━━━━━━━━━━━━━━━━━━━━━━━━━━━━━━━━━━━━━\u001b[0m \u001b[32m290.4/290.4 kB\u001b[0m \u001b[31m2.3 MB/s\u001b[0m eta \u001b[36m0:00:00\u001b[0m\n",
            "\u001b[?25hRequirement already satisfied: typing_extensions>=4.0 in /usr/local/lib/python3.10/dist-packages (from pypdf) (4.11.0)\n",
            "Installing collected packages: pypdf\n",
            "Successfully installed pypdf-4.2.0\n"
          ]
        }
      ],
      "source": [
        "# !pip install openai\n",
        "# !pip install pypdf"
      ]
    },
    {
      "cell_type": "code",
      "execution_count": 9,
      "metadata": {
        "id": "xJ1sD-NqXeDs"
      },
      "outputs": [],
      "source": [
        "# Importing the necessary libraries:\n",
        "import openai\n",
        "import os\n",
        "from pypdf import PdfReader\n",
        "from dotenv import load_dotenv"
      ]
    },
    {
      "cell_type": "code",
      "execution_count": 3,
      "metadata": {
        "id": "a40I2wP1XeFs"
      },
      "outputs": [],
      "source": [
        "# ------NOTE: Use this piece of code when you are running the code on you local machine ##-------\n",
        "# Loading the API key into the environment:\n",
        "load_dotenv('D:/Learning/Gen AI/Building LLM Applications using Prompt Engineering/API Keys/.env')\n",
        "\n",
        "# Assigning the API key to a variable:\n",
        "OPENAI_API_KEY = os.environ[\"OPENAI_API_KEY\"]\n",
        "\n",
        "# Assigning client:\n",
        "client = openai.OpenAI()\n",
        "\n",
        "# ## ------NOTE: Use this piece of code when you are running the code on Google colab (Assign the API key in the secrets tab on the left)##-------\n",
        "# from google.colab import userdata\n",
        "# # Assigning the API key to a variable:\n",
        "# OPENAI_API_KEY = userdata.get('OPENAI_API_KEY')\n",
        "# openai.api_key = OPENAI_API_KEY\n",
        "# client = openai"
      ]
    },
    {
      "cell_type": "code",
      "execution_count": 4,
      "metadata": {
        "id": "SWfOtikoXeIc"
      },
      "outputs": [],
      "source": [
        "# OpenAI function parameters:\n",
        "model ='gpt-3.5-turbo'"
      ]
    },
    {
      "cell_type": "code",
      "execution_count": 6,
      "metadata": {
        "id": "gAGnxODXXk5L"
      },
      "outputs": [],
      "source": [
        "# Function to provide response for prompts related to Nippon short term fund:\n",
        "def get_response_nippon(user_prompt, context, system_prompt = \"You are a helpful assistant\",  model='gpt-3.5-turbo'):\n",
        "\n",
        "  full_prompt = f'''Use the context below to answer the question\n",
        "  Question: {user_prompt}\n",
        "  context: {context}\n",
        "  '''\n",
        "\n",
        "  messages = [{'role':'system','content':system_prompt},\n",
        "              {'role':'user','content':full_prompt}]\n",
        "\n",
        "  response = client.chat.completions.create(\n",
        "      model=model,\n",
        "      messages=messages\n",
        "  )\n",
        "  return response.choices[0].message.content"
      ]
    },
    {
      "cell_type": "code",
      "execution_count": 19,
      "metadata": {
        "colab": {
          "base_uri": "https://localhost:8080/"
        },
        "collapsed": true,
        "id": "AW0I4AMPhc6H",
        "outputId": "086beea8-68fc-487d-af41-8d7eff5204d1"
      },
      "outputs": [
        {
          "name": "stdout",
          "output_type": "stream",
          "text": [
            "Investment Horizon: 1 - 3 years\n",
            "Contact your Mutual Fund Distributor  |  Call 1860 266 0111#, \n",
            "91-22-6925 9696# (For investors outside India)  |\n",
            "Visit mf.nipponindiaim.com\n",
            "#Charges applicable.Nippon India \n",
            "Short Term Fund\n",
            "(An open  ended  short  term  debt  scheme  investing  in \n",
            "instruments  such  that  the Macaulay  duration  of the \n",
            "portfolio  is between  1 to 3 years . Relatively  High  interest  \n",
            "rate  risk and moderate  Credit  Risk)\n",
            "Mutual Fund investments are subject to market risks, read all scheme related documents carefully.This product is suitable for investors who are seeking*\n",
            "•Income over short term\n",
            "•Investment in debt & money market instruments with \n",
            "portfolio Macaulay Duration between 1 -3 years\n",
            "*Investors should consult their financial advisors \n",
            "if in doubt about  whether the product is suitable \n",
            "for them.Benchmark RiskometerNippon India Short Term \n",
            "FundCRISIL Short Duration Debt \n",
            "B-II Index\n",
            "Investors understand that their principal  \n",
            "will be at Moderate riskBenchmark Riskometer is at \n",
            "Moderate riskProduct label Potential Risk Class\n",
            "About Nippon India Short Term Fund\n",
            "The primary investment objective of the scheme is to generate stable re - \n",
            "turns for investors with a short term investment horizon by investing in \n",
            "Debt & Money Market Instruments.\n",
            "Current Investment Strategy\n",
            "❖The fund  Investments  would  predominantly  be into corporate  bonds,  \n",
            "G-Secs  and money  market  instruments  predominantly  into 1 - 5 years  \n",
            "duration  bucket\n",
            "❖Strategy  is to enhance  returns  through  asset  allocation  and shape  of \n",
            "the yield  curve\n",
            "❖Better  credit  quality  assets  (75-85% AAA) ; 70-100% in upto  3 years  \n",
            "assets  and 0-30% in 3 to 5 years  assets,  15-20% tactical  allocation  to G-\n",
            "Secs/SDLs  based  on absolute  yield  and spread  views\n",
            "❖The fund  would  run moderate  duration  strategy,  which  would  be \n",
            "maintained  in the range  of 1.25 years  to 2.75 years\n",
            "Note : Above  mentioned  current  investment  strategy  is based  on the prevailing  market  \n",
            "conditions  and is subject  to change  within  the limits  of the SID basis  the fund  manager’s  \n",
            "view .\n",
            "Who should invest?\n",
            "❖Investors  seeking  accrual  return  with  the potential  for moderate  capital  \n",
            "gains  along  with  downward  curve  shift  and steepness  would  aid \n",
            "relatively  better  returns\n",
            "❖Investors  seeking  protection  in rising  yields  scenario  due to roll down  \n",
            "benefit  and high  absolute  yields\n",
            "❖Ideal  for Investors  with  moderate  appetite  for volatility  and investment  \n",
            "horizon  of around  1 - 3 years\n",
            "Inception Date\n",
            "Fund Manager#December 18, 2002\n",
            "Sushil Budhia , Vivek Sharma\n",
            "Minimum Application \n",
            "Amount\n",
            "BenchmarkRs. 5,000 & in multiples of R e.1 thereafter\n",
            "CRISIL Short Duration B -II Index\n",
            "Month end AUM as on \n",
            "January 31, 202 4 Rs. 5, 967.53 Crs\n",
            "Plans & Options\n",
            "Exit Load**\n",
            "(** If charged,  the same  shall  \n",
            "be credited  to the scheme  \n",
            "immediately  net of goods  & \n",
            "service  tax, if any)i)Growth  Plan/Direct  Plan  - Growth  Plan :\n",
            "Growth Option\n",
            "ii)a) IDCW  Plan/  Direct  Plan  - IDCW  Plan\n",
            "- IDCW  Option\n",
            "b) IDCW  Plan/  Direct  Plan  - IDCW  Plan  \n",
            "with  the frequency  of Monthly,  \n",
            "Quarterly)\n",
            "Both the above mentioned IDCW \n",
            "plan/ Direct Plan - IDCW Plan offers \n",
            "Payout of IDCW and Reinvestment \n",
            "of IDCW facility.\n",
            "Nil\n",
            "#Kinjal Desai : Dedicated Fund Manager for Overseas Investments\n",
            "Note - IDCW: Income Distribution cum capital withdrawal Options/Plans.\n",
            "Rating Profile as on  January 31, 202 4\n",
            "The emphasis  of the fund  is to invest  predominantly  into high  rated  AAA  \n",
            "and equivalent  securities  which  aims  to generate  a healthy  risk return  \n",
            "ratio .\n",
            "Asset Allocation as on  January 31, 202 4Scheme Attributes as on  January 31, 202 4\n",
            "Weighted Average YTM * 7.85%\n",
            "Weighted Average Maturity 3.47 Years\n",
            "Modified Duration 2.69 Years\n",
            "Portfolio as on  January 31, 202 4\n",
            "Company/Issuer Rating% of \n",
            "Assets\n",
            "Certificate of Deposit 1.56%\n",
            "Axis Bank Limited CRISIL A1+ 1.56%\n",
            "Commercial Paper 0.82%\n",
            "HDFC Bank Limited CRISIL A1+ 0.82%\n",
            "Corporate Bond 57.43%\n",
            "REC Limited CRISIL AAA 6.83%\n",
            "Small Industries Dev Ban k of IndiaICRA \n",
            "AAA/CRISIL \n",
            "AAA5.21%\n",
            "National Bank For Agricu lture and Rural \n",
            "DevelopmentCRISIL \n",
            "AAA/ICRA \n",
            "AAA5.02%\n",
            "Power Finance Corporatio n Limited CRISIL AAA 3.91%\n",
            "Bharti Telecom Limited CRISIL AA+ 3.55%\n",
            "Muthoot Finance Limited CRISIL AA+ 3.35%\n",
            "HDFC Bank Limited CRISIL AAA 3.04%\n",
            "LIC Housing Finance Limi ted CRISIL AAA 2.92%\n",
            "India Grid Trust InvIT F und (India Grid Trust \n",
            "Group)CRISIL AAA 2.65%\n",
            "Torrent Power Limited (T orrent group) CRISIL AA+ 2.65%\n",
            "Mahindra & Mahindra Fina ncial Services \n",
            "LimitedCRISIL AAA 2%\n",
            "PNB Housing Finance Limi ted ICRA AA 1.68%\n",
            "Titan Company Limited CRISIL AAA 1.67%\n",
            "Samvardhana Motherson In ternational \n",
            "LimitedFITCH AAA 1.5%\n",
            "Grasim Industries Limite d CRISIL AAA 1.5%\n",
            "360 One Prime Limited CRISIL AA 1.42%\n",
            "Tata Capital Limited ICRA AAA 1.26%\n",
            "HDB Financial Services L imited CRISIL AAA 1.08%\n",
            "Summit Digitel Infrastru cture Limited \n",
            "(BROOKFIELD GROUP)CRISIL AAA 0.84%\n",
            "Jamnagar Utilities & Pow er Private Limited \n",
            "(Mukesh Ambani Group)CRISIL AAA 0.84%\n",
            "Swarna Tollway Private L imited (MACQUARIE \n",
            "GROUP)CRISIL AAA 0.72%\n",
            "Larsen & Toubro Limited CRISIL AAA 0.59%\n",
            "Tata Capital Housing Fin ance Limited CRISIL AAA 0.57%\n",
            "Power Grid Corporation o f India Limited CRISIL AAA 0.54%\n",
            "Kotak Mahindra Prime Lim ited CRISIL AAA 0.5%\n",
            "The Federal Bank Limited FITCH AA 0.45%\n",
            "Shriram Finance Limited CRISIL AA+ 0.42%\n",
            "NTPC Limited CRISIL AAA 0.41%\n",
            "Bajaj Housing Finance Li mited CRISIL AAA 0.25%\n",
            "NHPC Limited CARE AAA 0.05%\n",
            "India Infradebt Limited (India Infradebt \n",
            "Limited)CRISIL AAA 0.02%\n",
            "Government Bond 23.95%\n",
            "Government of India SOV 23.95%\n",
            "*In case of semi annual YTM, it has been annualisedRisk factors : Trading  volumes  and settlement  periods  may  restrict  liquidity  in equity  and debt  investments . Investment  in Debt  is subject  to price,  credit,  \n",
            "and interest  rate  risk. The NAV  of the Scheme  may  be affected,  inter  alia,  by changes  in the market  conditions,\n",
            "interest  rates,  trading  volumes,  settlement  periods  and transfer  procedures . The NAV  may  also  be subjected  \n",
            "to risk associated  with  investment  in derivatives,  foreign  securities  or script  lending  as may  be permissible  by \n",
            "the Scheme  Information  Document .\n",
            "Disclaimers : The information herein above is meant only for general reading purposes and the views being \n",
            "expressed only constitute opinions and therefore cannot be considered as guidelines, recommendations  or \n",
            "as a professional guide for the readers. Before making any investments, the readers are advised to seek \n",
            "independent professional advice, verify the contents in order to arrive at an informed investment decision. \n",
            "None of the Sponsor, the Investment Manager, the Trustee, their respective directors, employees, associates or \n",
            "representatives shall be liable in any way for any direct, indirect, special, incidental, consequential, punitive or \n",
            "exemplary damages, including on account of lost profits arising from the information contained in this \n",
            "material.\n",
            "Mutual Fund Investments are subject to market risks, read all scheme related documents carefully.State Government Securit ies SOV 7.81%\n",
            "Treasury Bill 0.33%\n",
            "Government of India SOV 0.33%\n",
            "Corporate Debt Market Deve lopment Fund 0.26%\n",
            "Corporate Debt Market Deve lopment Fund \n",
            "Class A20.26%\n",
            "PTC 2.17%\n",
            "Sansar Trust (PTC of poo ls from Shriram \n",
            "Transport Finance Corporation)ICRA AAA(SO) 1.55%\n",
            "First Business Receivabl es Trust (Mukesh \n",
            "Ambani Group (PTC backed by receivables \n",
            "from Reliance group entities))CRISIL \n",
            "AAA(SO)/CRI SI\n",
            "L AAA(SO)0.61%\n",
            "Cash & Other Receivables 5.68%\n",
            "Grand Total 100%\n"
          ]
        }
      ],
      "source": [
        "# Code to extract information from the pdf:\n",
        "reader = PdfReader('NipponIndia-Short-Term-Fund-Jan-2024.pdf')\n",
        "\n",
        "page = ''\n",
        "for i in range(len(reader.pages)):\n",
        "  page_obj = reader.pages[i]\n",
        "  page = page + page_obj.extract_text()\n",
        "\n",
        "print(page)"
      ]
    },
    {
      "cell_type": "code",
      "execution_count": 23,
      "metadata": {
        "id": "x09QztKJXk7e"
      },
      "outputs": [],
      "source": [
        "# Function parameters for the get_response_dhsgpt:\n",
        "system_prompt = 'I want you to act like a chatbot for Nippon India Short term fund'\n",
        "nippon_context = page"
      ]
    },
    {
      "cell_type": "markdown",
      "metadata": {
        "id": "uRVdV682jAJ0"
      },
      "source": [
        "## **Prompt-1:**"
      ]
    },
    {
      "cell_type": "code",
      "execution_count": 26,
      "metadata": {
        "colab": {
          "base_uri": "https://localhost:8080/"
        },
        "id": "_l6FBK2EXeKM",
        "outputId": "99c1765a-99f1-46ae-fab5-a91cb95da2c5"
      },
      "outputs": [
        {
          "name": "stdout",
          "output_type": "stream",
          "text": [
            "Nippon India Short Term Fund is an open-ended short-term debt scheme that invests in instruments with a Macaulay duration of the portfolio between 1 to 3 years. The fund aims to provide stable returns for investors with a short-term investment horizon by investing in Debt & Money Market Instruments. \n",
            "\n",
            "The current investment strategy includes primarily corporate bonds, G-Secs, and money market instruments in the 1 to 5-year duration bucket. The fund aims to maintain a moderate duration strategy within the range of 1.25 years to 2.75 years. The fund primarily invests in assets with better credit quality (75-85% AAA) and allocates 70-100% in up to 3 years assets. \n",
            "\n",
            "This product is suitable for investors seeking income over the short term and with an investment horizon of 1 to 3 years. Additionally, investors who have a moderate appetite for volatility and seek accrual returns with potential moderate capital gains may find this fund suitable. \n",
            "\n",
            "For more information, you can contact your Mutual Fund Distributor, visit the Nippon India Mutual Fund website, or call the provided phone numbers. Please note that mutual fund investments are subject to market risks, so it's essential to read all scheme-related documents carefully before investing.\n"
          ]
        }
      ],
      "source": [
        "user_prompt = 'Tell me about Nippon India Short term Fund'\n",
        "\n",
        "print(get_response_nippon(user_prompt, nippon_context, system_prompt))"
      ]
    },
    {
      "cell_type": "markdown",
      "metadata": {
        "id": "RiY5n31qjEyc"
      },
      "source": [
        "## **Prompt-2:**"
      ]
    },
    {
      "cell_type": "code",
      "execution_count": 27,
      "metadata": {
        "colab": {
          "base_uri": "https://localhost:8080/"
        },
        "id": "0GuzVbp-XeOe",
        "outputId": "c8d93e58-0a41-486b-8a48-32b6c509a3ee"
      },
      "outputs": [
        {
          "name": "stdout",
          "output_type": "stream",
          "text": [
            "Investors who are seeking accrual returns with the potential for moderate capital gains, have a moderate appetite for volatility, and have an investment horizon of around 1 - 3 years should consider investing in Nippon India Short Term Fund. This fund is suitable for those looking for income over the short term and wishing to invest in debt and money market instruments with a portfolio Macaulay Duration between 1 - 3 years. If you fit these criteria, you may benefit from the relatively high interest rate risk and moderate credit risk profile of this open-ended short-term debt scheme. For more personalized advice, it is recommended to consult with your financial advisor or mutual fund distributor.\n"
          ]
        }
      ],
      "source": [
        "user_prompt = 'Who should invest in Nippon India Short term Fund?'\n",
        "\n",
        "print(get_response_nippon(user_prompt, nippon_context, system_prompt))"
      ]
    },
    {
      "cell_type": "markdown",
      "metadata": {
        "id": "bKEokMrbjI5c"
      },
      "source": [
        "## **Prompt-3:**"
      ]
    },
    {
      "cell_type": "code",
      "execution_count": 28,
      "metadata": {
        "colab": {
          "base_uri": "https://localhost:8080/"
        },
        "id": "DDDrSRdghWqA",
        "outputId": "af93a923-ce6f-4554-ac93-7d15e57f53e2"
      },
      "outputs": [
        {
          "name": "stdout",
          "output_type": "stream",
          "text": [
            "As of January 31st, 2024, the asset allocated the highest percentage in the Nippon India Short Term Fund was in Corporate Bonds, which accounted for 57.43% of the total assets.\n"
          ]
        }
      ],
      "source": [
        "user_prompt = 'what was allocated the highest asset as of January 31st 2024?'\n",
        "\n",
        "print(get_response_nippon(user_prompt, nippon_context, system_prompt))"
      ]
    },
    {
      "cell_type": "markdown",
      "metadata": {
        "id": "cDMde8Ahk3Oh"
      },
      "source": [
        "## **Prompt-4:**"
      ]
    },
    {
      "cell_type": "code",
      "execution_count": 29,
      "metadata": {
        "colab": {
          "base_uri": "https://localhost:8080/"
        },
        "id": "BLZpjFJehWro",
        "outputId": "f53fb9aa-f47e-477d-f0b3-3dfd2f935618"
      },
      "outputs": [
        {
          "name": "stdout",
          "output_type": "stream",
          "text": [
            "The risk factors associated with investing in Nippon India Short Term Fund are as follows:\n",
            "\n",
            "1. **Liquidity Risk**: Trading volumes and settlement periods may restrict liquidity in equity and debt investments, which can impact the ease of buying or selling investments.\n",
            "\n",
            "2. **Interest Rate Risk**: Investment in debt instruments is subject to interest rate risk. Changes in interest rates can affect the Net Asset Value (NAV) of the scheme and the returns on investments.\n",
            "\n",
            "3. **Credit Risk**: Investing in debt securities exposes the fund to credit risk, where the issuer may default on payments, leading to potential losses for investors.\n",
            "\n",
            "4. **Market Risk**: The NAV of the scheme may be affected by changes in market conditions, trading volumes, settlement periods, and transfer procedures. Fluctuations in market conditions can impact the overall performance of the fund.\n",
            "\n",
            "5. **Derivatives and Foreign Securities Risk**: The fund may also invest in derivatives and foreign securities, which carry their own set of risks. The performance of these investments can be influenced by factors specific to derivatives and foreign markets.\n",
            "\n",
            "Investors should carefully consider these risk factors before investing in Nippon India Short Term Fund and consult with their financial advisors to assess whether the product aligns with their investment goals and risk tolerance.\n"
          ]
        }
      ],
      "source": [
        "user_prompt = 'Tell me about the risk factors?'\n",
        "\n",
        "print(get_response_nippon(user_prompt, nippon_context, system_prompt))"
      ]
    },
    {
      "cell_type": "code",
      "execution_count": null,
      "metadata": {
        "id": "4D2mLcggk_ky"
      },
      "outputs": [],
      "source": []
    }
  ],
  "metadata": {
    "colab": {
      "provenance": []
    },
    "kernelspec": {
      "display_name": "Python 3",
      "name": "python3"
    },
    "language_info": {
      "name": "python"
    }
  },
  "nbformat": 4,
  "nbformat_minor": 0
}
